{
 "cells": [
  {
   "cell_type": "markdown",
   "id": "d3bfc191-8885-42ee-b0a0-bbab867c6f9f",
   "metadata": {
    "tags": []
   },
   "source": [
    "# Lab | Flow Control"
   ]
  },
  {
   "cell_type": "markdown",
   "id": "3851fcd1-cf98-4653-9c89-e003b7ec9400",
   "metadata": {},
   "source": [
    "## Exercise: Managing Customer Orders Optimized\n",
    "\n",
    "In the last lab, you were starting an online store that sells various products. To ensure smooth operations, you developed a program that manages customer orders and inventory.\n",
    "\n",
    "You did so without using flow control. Let's go a step further and improve this code.\n",
    "\n",
    "Follow the steps below to complete the exercise:\n",
    "\n",
    "1. Look at your code from the lab data structures, and improve repeated code with loops.\n",
    "\n",
    "2. Instead of asking the user to input the name of three products that a customer wants to order, do the following:\n",
    "    \n",
    "    a. Prompt the user to enter the name of a product that a customer wants to order.\n",
    "    \n",
    "    b. Add the product name to the \"customer_orders\" set.\n",
    "    \n",
    "    c. Ask the user if they want to add another product (yes/no).\n",
    "    \n",
    "    d. Continue the loop until the user does not want to add another product.\n",
    "\n",
    "3. Instead of updating the inventory by subtracting 1 from the quantity of each product, only do it for  the products that were ordered (those in \"customer_orders\")."
   ]
  },
  {
   "cell_type": "code",
   "execution_count": 2,
   "id": "b553538d",
   "metadata": {},
   "outputs": [],
   "source": [
    "       #Exercise 01\n",
    "products = (\"t-shirt\",\"mug\",\"hat\",\"book\",\"keychain\")"
   ]
  },
  {
   "cell_type": "code",
   "execution_count": 3,
   "id": "b19ad2ec",
   "metadata": {},
   "outputs": [
    {
     "data": {
      "text/plain": [
       "{'t-shirt': '5', 'mug': '5', 'hat': '6', 'book': '4', 'keychain': '5'}"
      ]
     },
     "execution_count": 3,
     "metadata": {},
     "output_type": "execute_result"
    }
   ],
   "source": [
    "inventory = {}\n",
    "\n",
    "for products in products:\n",
    "    inventory[products] = input (\"Enter the quantite of each produtc avaible in the inventory\")\n",
    "inventory "
   ]
  },
  {
   "cell_type": "code",
   "execution_count": 4,
   "id": "e8e0fcd9",
   "metadata": {},
   "outputs": [],
   "source": [
    "set_customer_orders=set()\n",
    "\n",
    "for i in range(3):\n",
    "    answer=input(\"What do you like to order\")\n",
    "    set_customer_orders.add(answer)"
   ]
  },
  {
   "cell_type": "code",
   "execution_count": 5,
   "id": "587c8124",
   "metadata": {},
   "outputs": [
    {
     "data": {
      "text/plain": [
       "{'hat', 'keychain', 'mug'}"
      ]
     },
     "execution_count": 5,
     "metadata": {},
     "output_type": "execute_result"
    }
   ],
   "source": [
    "set_customer_orders"
   ]
  },
  {
   "cell_type": "code",
   "execution_count": 6,
   "id": "886c5add",
   "metadata": {},
   "outputs": [],
   "source": [
    "total_products_ordered = len (set_customer_orders)\n",
    "percentage_customer_orders= (len (set_customer_orders)/total_products_ordered)\n",
    "orders_status=(\"total_products_ordered\",\"percentege_customer_orders\")"
   ]
  },
  {
   "cell_type": "code",
   "execution_count": 7,
   "id": "f9dece61",
   "metadata": {},
   "outputs": [
    {
     "data": {
      "text/plain": [
       "3"
      ]
     },
     "execution_count": 7,
     "metadata": {},
     "output_type": "execute_result"
    }
   ],
   "source": [
    "total_products_ordered"
   ]
  },
  {
   "cell_type": "code",
   "execution_count": 8,
   "id": "7ed29d91",
   "metadata": {},
   "outputs": [
    {
     "name": "stdout",
     "output_type": "stream",
     "text": [
      "('total_products_ordered', 'percentege_customer_orders')\n"
     ]
    }
   ],
   "source": [
    "print(orders_status)"
   ]
  },
  {
   "cell_type": "code",
   "execution_count": 9,
   "id": "0b68c186",
   "metadata": {},
   "outputs": [
    {
     "name": "stdout",
     "output_type": "stream",
     "text": [
      "{'t-shirt': 4, 'mug': 4, 'hat': 5, 'book': 3, 'keychain': 4}\n"
     ]
    }
   ],
   "source": [
    "inventory= {'t-shirt': '5', 'mug': '5', 'hat': '6', 'book': '4', 'keychain': '5'}\n",
    "inventory ={**inventory, 't-shirt':4,'mug':4,'hat':5,'book':3,'keychain':4}\n",
    "print(inventory)"
   ]
  },
  {
   "cell_type": "code",
   "execution_count": 10,
   "id": "f6cb0483",
   "metadata": {},
   "outputs": [
    {
     "name": "stdout",
     "output_type": "stream",
     "text": [
      "Update invertory by substracting 1 :\n",
      "t-shirt : 4\n",
      "mug : 4\n",
      "hat : 5\n",
      "book : 3\n",
      "keychain : 4\n"
     ]
    }
   ],
   "source": [
    "print(\"Update invertory by substracting 1 :\")\n",
    "for key,value in inventory.items():\n",
    "    inventory[key]=value-1\n",
    "    print(key,\":\",value)"
   ]
  },
  {
   "cell_type": "code",
   "execution_count": 24,
   "id": "83cacc75",
   "metadata": {},
   "outputs": [
    {
     "name": "stdout",
     "output_type": "stream",
     "text": [
      "{'keychain', 'hat', 'mug'}\n"
     ]
    }
   ],
   "source": [
    "      #Exercise 02\n",
    "customer_orders = set()\n",
    "while True:\n",
    "    yes_no_input = input('Do you want to order something? Answer yes/no')\n",
    "    \n",
    "    if yes_no_input.lower() == 'yes':\n",
    "        product_wanted = input('Enter the product ordered by the customer:')\n",
    "        customer_orders.add(product_wanted)\n",
    "    elif yes_no_input.lower() == 'no':\n",
    "        break\n",
    "    else:\n",
    "        print('Enter a valid input')\n",
    "print(customer_orders)"
   ]
  },
  {
   "cell_type": "code",
   "execution_count": 21,
   "id": "8d9f2f1c",
   "metadata": {},
   "outputs": [
    {
     "name": "stdout",
     "output_type": "stream",
     "text": [
      "{'mug': 4, 'hat': 5, 'keychain': 4}\n"
     ]
    }
   ],
   "source": [
    "        #Exercise 03\n",
    "inventory= {'t-shirt': '5', 'mug': '5', 'hat': '6', 'book': '4', 'keychain': '5'}\n",
    "inventory ={**inventory, 't-shirt':5,'mug':4,'hat':5,'book':4,'keychain':4}\n",
    "x= inventory.pop(\"t-shirt\")\n",
    "x= inventory.pop(\"book\")\n",
    "print(inventory)"
   ]
  }
 ],
 "metadata": {
  "kernelspec": {
   "display_name": "Python 3 (ipykernel)",
   "language": "python",
   "name": "python3"
  },
  "language_info": {
   "codemirror_mode": {
    "name": "ipython",
    "version": 3
   },
   "file_extension": ".py",
   "mimetype": "text/x-python",
   "name": "python",
   "nbconvert_exporter": "python",
   "pygments_lexer": "ipython3",
   "version": "3.11.5"
  }
 },
 "nbformat": 4,
 "nbformat_minor": 5
}
